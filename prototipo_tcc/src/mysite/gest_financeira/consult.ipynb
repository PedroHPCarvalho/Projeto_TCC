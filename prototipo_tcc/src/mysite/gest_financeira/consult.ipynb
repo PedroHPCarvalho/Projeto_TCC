{
 "cells": [
  {
   "cell_type": "code",
   "execution_count": null,
   "metadata": {},
   "outputs": [],
   "source": [
    "import os\n",
    "import sys\n",
    "import django\n",
    "import pandas as pd\n",
    "import plotly.express as px"
   ]
  },
  {
   "cell_type": "code",
   "execution_count": null,
   "metadata": {},
   "outputs": [],
   "source": [
    "# Adicione o caminho até a pasta onde está o manage.py\n",
    "sys.path.append(r'C:\\Users\\pedro\\Documents\\Python Scripts\\Projeto_TCC\\prototipo_tcc\\src\\mysite')\n",
    "\n",
    "os.environ.setdefault(\"DJANGO_SETTINGS_MODULE\", \"mysite.settings\")\n",
    "django.setup()"
   ]
  },
  {
   "cell_type": "code",
   "execution_count": null,
   "id": "dffd10e5",
   "metadata": {},
   "outputs": [],
   "source": [
    "from gest_financeira.models import Registros\n",
    "from django.contrib.auth import get_user_model\n",
    "from asgiref.sync import sync_to_async\n",
    "\n",
    "User = get_user_model()\n",
    "\n",
    "async def get_usuario_and_dados(user_id):\n",
    "\tusuario = await sync_to_async(User.objects.get)(id=user_id)\n",
    "\tdados = await sync_to_async(Registros.objects.filter)(id_user=usuario)\n",
    "\treturn usuario, dados\n",
    "\n",
    "usuario, dados = await get_usuario_and_dados(18)\n"
   ]
  },
  {
   "cell_type": "code",
   "execution_count": null,
   "metadata": {},
   "outputs": [],
   "source": [
    "import pandas as pd\n",
    "\n",
    "# 'dados' é um queryset, converta para lista de dicionários\n",
    "dados_list = await sync_to_async(list)(dados.values())\n",
    "\n",
    "# Crie o DataFrame\n",
    "df_dados = pd.DataFrame(dados_list)\n",
    "\n",
    "# Exiba o DataFrame (no notebook, só coloque df na última linha)\n",
    "display(df_dados)\n"
   ]
  },
  {
   "cell_type": "code",
   "execution_count": null,
   "metadata": {},
   "outputs": [],
   "source": [
    "resume_pie = df_dados[[\"category\",\"amount\",\"type_register\"]]\n",
    "resume_pie = resume_pie[resume_pie['type_register'] != 'entrada']\n",
    "resume_pie.groupby(\"category\", as_index=False)['amount'].sum()\n",
    "display(resume_pie)\n",
    "fig = px.pie(resume_pie,names='category',values='amount',title=\"Gasto por Categoria\")\n",
    "fig.update_layout(\n",
    "    paper_bgcolor='#005F6B',  # Cor do fundo total (papel)\n",
    "    plot_bgcolor='#005F6B',        # Cor do fundo dentro do gráfico\n",
    "    font_color='white'\n",
    ")\n",
    "fig.show()\n"
   ]
  },
  {
   "cell_type": "code",
   "execution_count": null,
   "metadata": {},
   "outputs": [],
   "source": [
    "fig = px.pie(\n",
    "    resume_pie,\n",
    "    names='category',\n",
    "    values='amount',\n",
    "    title='Gasto por Categoria',\n",
    "    color_discrete_sequence=px.colors.sequential.RdBu  # Escolhe uma paleta de cores diferente\n",
    ")\n",
    "\n",
    "fig.update_traces(\n",
    "    textposition='inside',  # texto dentro da fatia\n",
    "    textinfo='percent+label',  # mostra % e nome\n",
    ")\n",
    "\n",
    "fig.update_layout(\n",
    "    title_font_size=20,\n",
    "    legend_title_text='Categorias',\n",
    "    legend=dict(\n",
    "        orientation='v',\n",
    "        yanchor='middle',\n",
    "        y=0.5,\n",
    "        xanchor='right',\n",
    "        x=1.2\n",
    "    )\n",
    ")\n",
    "\n",
    "fig.show()"
   ]
  }
 ],
 "metadata": {
  "kernelspec": {
   "display_name": ".venv",
   "language": "python",
   "name": "python3"
  },
  "language_info": {
   "codemirror_mode": {
    "name": "ipython",
    "version": 3
   },
   "file_extension": ".py",
   "mimetype": "text/x-python",
   "name": "python",
   "nbconvert_exporter": "python",
   "pygments_lexer": "ipython3",
   "version": "3.10.11"
  }
 },
 "nbformat": 4,
 "nbformat_minor": 5
}
